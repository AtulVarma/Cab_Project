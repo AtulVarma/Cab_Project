{
 "cells": [
  {
   "cell_type": "code",
   "execution_count": 1,
   "metadata": {},
   "outputs": [],
   "source": [
    "import pandas as pd\n",
    "import numpy as np\n",
    "import scipy as sp\n",
    "from sklearn.cluster import KMeans\n",
    "get_ipython().magic(u'matplotlib inline')\n",
    "import matplotlib.pyplot as plt\n",
    "import seaborn as sns; sns.set()"
   ]
  },
  {
   "cell_type": "code",
   "execution_count": 2,
   "metadata": {},
   "outputs": [],
   "source": [
    "sampleData = pd.read_csv(\"/home/rameshm/Lab/Uber/SampleData/part-00000\",  \n",
    "                         names = ['date', 'latitude', 'longitude', 'baseLLC'])"
   ]
  },
  {
   "cell_type": "code",
   "execution_count": 3,
   "metadata": {},
   "outputs": [
    {
     "data": {
      "text/html": [
       "<div>\n",
       "<style>\n",
       "    .dataframe thead tr:only-child th {\n",
       "        text-align: right;\n",
       "    }\n",
       "\n",
       "    .dataframe thead th {\n",
       "        text-align: left;\n",
       "    }\n",
       "\n",
       "    .dataframe tbody tr th {\n",
       "        vertical-align: top;\n",
       "    }\n",
       "</style>\n",
       "<table border=\"1\" class=\"dataframe\">\n",
       "  <thead>\n",
       "    <tr style=\"text-align: right;\">\n",
       "      <th></th>\n",
       "      <th>date</th>\n",
       "      <th>latitude</th>\n",
       "      <th>longitude</th>\n",
       "      <th>baseLLC</th>\n",
       "    </tr>\n",
       "  </thead>\n",
       "  <tbody>\n",
       "    <tr>\n",
       "      <th>0</th>\n",
       "      <td>11/1/2016 0:21:00</td>\n",
       "      <td>40.7535</td>\n",
       "      <td>-73.9813</td>\n",
       "      <td>B02512</td>\n",
       "    </tr>\n",
       "    <tr>\n",
       "      <th>1</th>\n",
       "      <td>11/1/2016 3:35:00</td>\n",
       "      <td>40.7303</td>\n",
       "      <td>-74.0025</td>\n",
       "      <td>B02512</td>\n",
       "    </tr>\n",
       "    <tr>\n",
       "      <th>2</th>\n",
       "      <td>11/1/2016 3:36:00</td>\n",
       "      <td>40.7347</td>\n",
       "      <td>-73.9924</td>\n",
       "      <td>B02512</td>\n",
       "    </tr>\n",
       "    <tr>\n",
       "      <th>3</th>\n",
       "      <td>11/1/2016 9:50:00</td>\n",
       "      <td>40.7823</td>\n",
       "      <td>-73.9723</td>\n",
       "      <td>B02512</td>\n",
       "    </tr>\n",
       "  </tbody>\n",
       "</table>\n",
       "</div>"
      ],
      "text/plain": [
       "                date  latitude  longitude baseLLC\n",
       "0  11/1/2016 0:21:00   40.7535   -73.9813  B02512\n",
       "1  11/1/2016 3:35:00   40.7303   -74.0025  B02512\n",
       "2  11/1/2016 3:36:00   40.7347   -73.9924  B02512\n",
       "3  11/1/2016 9:50:00   40.7823   -73.9723  B02512"
      ]
     },
     "execution_count": 3,
     "metadata": {},
     "output_type": "execute_result"
    }
   ],
   "source": [
    "sampleData.head(4)"
   ]
  },
  {
   "cell_type": "code",
   "execution_count": 5,
   "metadata": {},
   "outputs": [],
   "source": [
    "columns = ['longitude', 'latitude']\n",
    "featuresData = pd.DataFrame(sampleData, columns=columns)"
   ]
  },
  {
   "cell_type": "code",
   "execution_count": 6,
   "metadata": {},
   "outputs": [],
   "source": [
    "### For the purposes of this example, we store feature data from our\n",
    "### dataframe `featuresData`, in the `f1` and `f2` arrays. We combine this into\n",
    "### a feature matrix `X` before entering it into the algorithm.\n",
    "f1 = featuresData['longitude'].values\n",
    "f2 = featuresData['latitude'].values\n",
    "X=np.matrix(list(zip(f1,f2)))\n"
   ]
  },
  {
   "cell_type": "code",
   "execution_count": 7,
   "metadata": {},
   "outputs": [],
   "source": [
    "Y=X[:100]"
   ]
  },
  {
   "cell_type": "code",
   "execution_count": 8,
   "metadata": {},
   "outputs": [
    {
     "data": {
      "text/plain": [
       "matrix([[-73.9813,  40.7535],\n",
       "        [-74.0025,  40.7303],\n",
       "        [-73.9924,  40.7347],\n",
       "        [-73.9723,  40.7823],\n",
       "        [-73.9889,  40.7366],\n",
       "        [-73.9687,  40.7549],\n",
       "        [-73.8722,  40.7741],\n",
       "        [-73.9601,  40.7582],\n",
       "        [-73.9079,  40.6991],\n",
       "        [-74.0057,  40.7257],\n",
       "        [-73.9819,  40.7392],\n",
       "        [-74.0052,  40.7214],\n",
       "        [-73.9852,  40.7635],\n",
       "        [-73.9765,  40.7509],\n",
       "        [-74.0307,  40.7376],\n",
       "        [-73.978 ,  40.7771],\n",
       "        [-74.1772,  40.6951],\n",
       "        [-73.79  ,  40.6435],\n",
       "        [-74.0098,  40.7241],\n",
       "        [-73.8724,  40.7738],\n",
       "        [-74.1782,  40.6951],\n",
       "        [-73.9656,  40.7527],\n",
       "        [-73.9745,  40.7785],\n",
       "        [-73.9916,  40.7312],\n",
       "        [-73.96  ,  40.7714],\n",
       "        [-74.0005,  40.7249],\n",
       "        [-74.0165,  40.7073],\n",
       "        [-73.9811,  40.7375],\n",
       "        [-73.9924,  40.7304],\n",
       "        [-73.9612,  40.7587],\n",
       "        [-73.9879,  40.765 ],\n",
       "        [-73.9624,  40.795 ],\n",
       "        [-74.0095,  40.7376],\n",
       "        [-74.0082,  40.7306],\n",
       "        [-73.9495,  40.7744],\n",
       "        [-73.9738,  40.7642],\n",
       "        [-73.9888,  40.7447],\n",
       "        [-73.9703,  40.7624],\n",
       "        [-73.9464,  40.7114],\n",
       "        [-73.987 ,  40.7363],\n",
       "        [-73.9854,  40.7441],\n",
       "        [-73.9808,  40.7495],\n",
       "        [-73.9522,  40.7841],\n",
       "        [-73.9626,  40.7768],\n",
       "        [-74.0089,  40.7076],\n",
       "        [-73.9798,  40.7618],\n",
       "        [-73.9869,  40.7542],\n",
       "        [-73.9815,  40.7617],\n",
       "        [-73.9845,  40.7594],\n",
       "        [-73.9839,  40.7616],\n",
       "        [-74.0085,  40.7312],\n",
       "        [-73.9708,  40.7587],\n",
       "        [-73.9742,  40.7608],\n",
       "        [-73.9736,  40.7582],\n",
       "        [-73.9678,  40.7628],\n",
       "        [-73.9643,  40.7547],\n",
       "        [-73.9629,  40.7722],\n",
       "        [-74.0047,  40.7419],\n",
       "        [-73.9516,  40.7993],\n",
       "        [-73.984 ,  40.7423],\n",
       "        [-73.9745,  40.7536],\n",
       "        [-74.2461,  40.9306],\n",
       "        [-74.0002,  40.734 ],\n",
       "        [-73.9925,  40.7178],\n",
       "        [-73.9768,  40.7594],\n",
       "        [-73.9772,  40.7643],\n",
       "        [-73.9729,  40.7615],\n",
       "        [-73.9424,  40.8414],\n",
       "        [-74.0026,  40.7185],\n",
       "        [-73.872 ,  40.7739],\n",
       "        [-73.9551,  40.7844],\n",
       "        [-73.9617,  40.714 ],\n",
       "        [-73.979 ,  40.7627],\n",
       "        [-73.9872,  40.7557],\n",
       "        [-73.783 ,  40.6483],\n",
       "        [-73.9761,  40.7521],\n",
       "        [-73.9808,  40.7657],\n",
       "        [-73.9908,  40.7437],\n",
       "        [-73.9993,  40.7248],\n",
       "        [-73.9764,  40.7517],\n",
       "        [-73.9408,  40.8224],\n",
       "        [-73.9539,  40.7789],\n",
       "        [-73.9835,  40.7802],\n",
       "        [-73.9991,  40.7325],\n",
       "        [-73.993 ,  40.7368],\n",
       "        [-73.9829,  40.7449],\n",
       "        [-73.9829,  40.7808],\n",
       "        [-73.9249,  40.7689],\n",
       "        [-73.993 ,  40.7381],\n",
       "        [-73.9616,  40.7563],\n",
       "        [-73.8509,  40.7383],\n",
       "        [-73.9921,  40.7489],\n",
       "        [-73.9834,  40.6939],\n",
       "        [-73.9937,  40.7209],\n",
       "        [-73.9959,  40.7449],\n",
       "        [-74.0099,  40.7339],\n",
       "        [-73.9871,  40.7396],\n",
       "        [-73.9799,  40.7762],\n",
       "        [-74.0102,  40.723 ],\n",
       "        [-73.9863,  40.757 ]])"
      ]
     },
     "execution_count": 8,
     "metadata": {},
     "output_type": "execute_result"
    }
   ],
   "source": [
    "Y"
   ]
  },
  {
   "cell_type": "code",
   "execution_count": 9,
   "metadata": {},
   "outputs": [
    {
     "data": {
      "image/png": "[encoded data removed]",
      "text/plain": [
       "<matplotlib.figure.Figure at 0x2dbac50>"
      ]
     },
     "metadata": {},
     "output_type": "display_data"
    }
   ],
   "source": [
    "## Draw a scatter plot with above features\n",
    "plt.scatter(f1,f2)\n",
    "plt.show()"
   ]
  },
  {
   "cell_type": "code",
   "execution_count": 10,
   "metadata": {},
   "outputs": [],
   "source": [
    "K = range(1,20)\n",
    "KM = [KMeans(n_clusters=k).fit(X) for k in K]\n",
    "centroids = [k.cluster_centers_ for k in KM]"
   ]
  },
  {
   "cell_type": "code",
   "execution_count": 12,
   "metadata": {},
   "outputs": [],
   "source": [
    "## Find with in sum of squared error\n",
    "from scipy.spatial.distance import cdist, pdist\n",
    "\n",
    "D_k = [cdist(X, cent, 'euclidean') for cent in centroids]\n",
    "#cIdx = [np.argmin(D,axis=1) for D in D_k]\n",
    "dist = [np.min(D,axis=1) for D in D_k]\n",
    "sumWithinSS = [sum(d) for d in dist]"
   ]
  },
  {
   "cell_type": "code",
   "execution_count": 13,
   "metadata": {},
   "outputs": [
    {
     "data": {
      "text/plain": [
       "<matplotlib.text.Text at 0x6e3d650>"
      ]
     },
     "execution_count": 13,
     "metadata": {},
     "output_type": "execute_result"
    },
    {
     "data": {
      "image/png": "[encoded data removed]",
      "text/plain": [
       "<matplotlib.figure.Figure at 0x713efd0>"
      ]
     },
     "metadata": {},
     "output_type": "display_data"
    }
   ],
   "source": [
    "fig = plt.figure()\n",
    "ax = fig.add_subplot(111)\n",
    "ax.plot(K, sumWithinSS, 'b*-')\n",
    "ax.plot(K, sumWithinSS, marker='o', markersize=12, \n",
    "markeredgewidth=2, markeredgecolor='r', markerfacecolor='None')\n",
    "plt.grid(True)\n",
    "plt.xlabel('Number of clusters')\n",
    "plt.ylabel('within-cluster sum of squares')\n",
    "plt.title('Elbow for KMeans clustering')"
   ]
  },
  {
   "cell_type": "code",
   "execution_count": 15,
   "metadata": {},
   "outputs": [
    {
     "data": {
      "text/plain": [
       "[4.0009032860137106,\n",
       " 3.7210765649555637,\n",
       " 3.0353492302699832,\n",
       " 2.2918650337296755,\n",
       " 1.9658860062594523,\n",
       " 1.6836124027607922,\n",
       " 1.4270484795387715,\n",
       " 1.2964161646110031,\n",
       " 1.1365769812324946,\n",
       " 1.0037639533090996,\n",
       " 0.94670745674263523,\n",
       " 0.85954916665239423,\n",
       " 0.78805227119139021,\n",
       " 0.72936785974968976,\n",
       " 0.6946051550404756,\n",
       " 0.66170819089579935,\n",
       " 0.61909654894113242,\n",
       " 0.58259837833651595,\n",
       " 0.55756915293270815]"
      ]
     },
     "execution_count": 15,
     "metadata": {},
     "output_type": "execute_result"
    }
   ],
   "source": [
    "sumWithinSS"
   ]
  },
  {
   "cell_type": "code",
   "execution_count": null,
   "metadata": {
    "collapsed": true
   },
   "outputs": [],
   "source": []
  }
 ],
 "metadata": {
  "kernelspec": {
   "display_name": "Python 2",
   "language": "python",
   "name": "python2"
  },
  "language_info": {
   "codemirror_mode": {
    "name": "ipython",
    "version": 2
   },
   "file_extension": ".py",
   "mimetype": "text/x-python",
   "name": "python",
   "nbconvert_exporter": "python",
   "pygments_lexer": "ipython2",
   "version": "2.7.5"
  }
 },
 "nbformat": 4,
 "nbformat_minor": 2
}
